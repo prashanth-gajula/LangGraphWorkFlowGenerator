{
 "cells": [
  {
   "cell_type": "code",
   "execution_count": 2,
   "metadata": {},
   "outputs": [],
   "source": [
    "import os\n",
    "from dotenv import load_dotenv\n",
    "load_dotenv()\n",
    "from langchain_groq import ChatGroq"
   ]
  },
  {
   "cell_type": "code",
   "execution_count": 3,
   "metadata": {},
   "outputs": [],
   "source": [
    "os.environ['GROQ_API_KEY'] = os.getenv('GROQ_API_KEY')\n",
    "reviewer_model = ChatGroq(model='qwen-2.5-32b')"
   ]
  },
  {
   "cell_type": "code",
   "execution_count": 8,
   "metadata": {},
   "outputs": [],
   "source": [
    "result = reviewer_model.invoke(\"classify the given text into positive or negative the chat looks too basic need some additional patameters to be added pls do that return the result in positive or negative words\")"
   ]
  },
  {
   "cell_type": "code",
   "execution_count": 9,
   "metadata": {},
   "outputs": [
    {
     "data": {
      "text/plain": [
       "AIMessage(content='Negative', additional_kwargs={}, response_metadata={'token_usage': {'completion_tokens': 2, 'prompt_tokens': 62, 'total_tokens': 64, 'completion_time': 0.01, 'prompt_time': 0.005318242, 'queue_time': 0.227646383, 'total_time': 0.015318242}, 'model_name': 'qwen-2.5-32b', 'system_fingerprint': 'fp_35f92f8282', 'finish_reason': 'stop', 'logprobs': None}, id='run-d5a6d116-6bf1-46e6-8636-86a8d19fb444-0', usage_metadata={'input_tokens': 62, 'output_tokens': 2, 'total_tokens': 64})"
      ]
     },
     "execution_count": 9,
     "metadata": {},
     "output_type": "execute_result"
    }
   ],
   "source": [
    "result"
   ]
  },
  {
   "cell_type": "code",
   "execution_count": 10,
   "metadata": {},
   "outputs": [],
   "source": [
    "import os\n",
    "from dotenv import load_dotenv\n",
    "load_dotenv()\n",
    "from langchain_groq import ChatGroq\n",
    "from langchain_openai import ChatOpenAI\n",
    "from langgraph.graph import StateGraph, START, END\n",
    "import fastapi\n",
    "import openai\n",
    "from graphviz import Source\n",
    "from langchain_core.messages import HumanMessage,SystemMessage\n",
    "from pydantic import BaseModel\n",
    "from typing_extensions import TypedDict\n",
    "from typing import Annotated\n",
    "from langgraph.graph.message import add_messages\n",
    "import io\n",
    "from IPython.display import Image, display\n",
    "\n",
    "class MessagesState(TypedDict):\n",
    "    messages:Annotated[list,add_messages]\n",
    "    feedback:str\n",
    "    review:str\n",
    "    prompt:str\n",
    "#\n",
    "os.environ['OPENAI_API_KEY'] = os.getenv('OPENAI_API_KEY')\n",
    "os.environ['GROQ_API_KEY'] = os.getenv('GROQ_API_KEY')\n",
    "reviewer_model = ChatGroq(model='qwen-2.5-32b')\n",
    "\n",
    "# Define prompt\n",
    "prompt = \"\"\"\n",
    "Generate a simple Graphviz DOT diagram for a blog generator workflow. \n",
    "The workflow should include:\n",
    "1. A \"Generator Node\" that generates the blog.\n",
    "2. A \"Reviewer Node\" that reviews the content.\n",
    "3. If the content is incorrect, it should go back to the \"Generator Node\".\n",
    "Output only the DOT code.\n",
    "\"\"\""
   ]
  },
  {
   "cell_type": "code",
   "execution_count": null,
   "metadata": {},
   "outputs": [
    {
     "data": {
      "image/png": "[encoded data removed]",
      "text/plain": [
       "<IPython.core.display.Image object>"
      ]
     },
     "metadata": {},
     "output_type": "display_data"
    }
   ],
   "source": [
    "def Graph_Generator(state:MessagesState):\n",
    "    system_message_generator = SystemMessage(content=\"You are a helpful assistant who helps users by generating the Lang Graph work flow based on the requirement\")\n",
    "    # Call GPT-4-turbo API\n",
    "    if state['feedback'] == '':\n",
    "        \n",
    "        response = openai.ChatCompletion.create(\n",
    "            model=\"gpt-4-turbo\",\n",
    "            messages=[{\"role\": \"user\", \"content\": [system_message_generator] + state['prompt']}]\n",
    "        )\n",
    "        # Extract the DOT code\n",
    "        dot_code = response[\"choices\"][0][\"message\"][\"content\"]\n",
    "        lines = dot_code.split(\"\\n\")[1:-1]\n",
    "        extracted_dot = \"\\n\".join(lines)\n",
    "\n",
    "        # Pass extracted content to Graphviz\n",
    "        graph = Source(extracted_dot, format=\"pdf\")\n",
    "        graph.render(\"graph_output\")  # Saves as graph_output.pdf\n",
    "        \n",
    "        #graph.view()  # Open the generated PDF\n",
    "    else:\n",
    "        response = openai.ChatCompletion.create(\n",
    "            model=\"gpt-4-turbo\",\n",
    "            messages=[{\"role\": \"user\", \"content\": [system_message_generator] + state['prompt'] + state['feedback']}]\n",
    "        )\n",
    "        # Extract the DOT code\n",
    "        dot_code = response[\"choices\"][0][\"message\"][\"content\"]\n",
    "        lines = dot_code.split(\"\\n\")[1:-1]\n",
    "        extracted_dot = \"\\n\".join(lines)\n",
    "\n",
    "        # Pass extracted content to Graphviz\n",
    "        graph = Source(extracted_dot, format=\"pdf\")\n",
    "        graph.render(\"graph_output\")  # Saves as graph_output.pdf\n",
    "        #graph.view()  # Open the generated PDF\n",
    "\n",
    "def Reviewer(state: MessagesState):\n",
    "    system_message_Reviewer = SystemMessage(content=\"You are a helpful assistant who takes user feedback and categorize the feedback into positive or negative and send the feedback to Generator node if it is negative return the response using words positive or negative\")\n",
    "    \n",
    "    reviewer_model.invoke([system_message_Reviewer] + state['feedback'])\n",
    "    \n",
    "    return{'review':reviewer_model.content}\n",
    "\n",
    "#generating the graph\n",
    "graph_builder = StateGraph(MessagesState)\n",
    "\n",
    "graph_builder.add_node(\"Graph_Generator\",Graph_Generator)\n",
    "graph_builder.add_node(\"Reviewer\",Reviewer)\n",
    "#graph_builder.add_node(\"Check_Review\",Check_Review)\n",
    "\n",
    "#adding edges\n",
    "graph_builder.add_edge(START,\"Graph_Generator\")\n",
    "graph_builder.add_edge(\"Graph_Generator\",\"Reviewer\")\n",
    "#graph_builder.add_edge(\"Reviewer\",\"Check_Review\")\n",
    "graph_builder.add_conditional_edges(\"Reviewer\",Reviewer,{\"Negative\":\"Graph_Generator\",\"positive\":END})\n",
    "\n",
    "WorkFlow_Graph = graph_builder.compile()\n",
    "\n",
    "display(Image(WorkFlow_Graph.get_graph().draw_mermaid_png())) \n",
    "    \n",
    "    \n"
   ]
  }
 ],
 "metadata": {
  "kernelspec": {
   "display_name": "Python 3",
   "language": "python",
   "name": "python3"
  },
  "language_info": {
   "codemirror_mode": {
    "name": "ipython",
    "version": 3
   },
   "file_extension": ".py",
   "mimetype": "text/x-python",
   "name": "python",
   "nbconvert_exporter": "python",
   "pygments_lexer": "ipython3",
   "version": "3.12.9"
  }
 },
 "nbformat": 4,
 "nbformat_minor": 2
}
